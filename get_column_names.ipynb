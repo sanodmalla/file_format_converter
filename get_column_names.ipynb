{
 "cells": [
  {
   "cell_type": "code",
   "execution_count": 15,
   "metadata": {},
   "outputs": [],
   "source": [
    "import json"
   ]
  },
  {
   "cell_type": "code",
   "execution_count": 19,
   "metadata": {},
   "outputs": [],
   "source": [
    "def get_column_names(schema, ds_name, sorting_key = \"column_position\"):\n",
    "    column_details = schema[ds_name]\n",
    "    columns = sorted(column_details, key = lambda col: col[sorting_key])\n",
    "    return [col['column_name'] for col in columns]\n",
    "\n",
    "    "
   ]
  },
  {
   "cell_type": "code",
   "execution_count": 20,
   "metadata": {},
   "outputs": [],
   "source": [
    "schema = json.load(open(\"data/retail_db/schemas.json\"))"
   ]
  },
  {
   "cell_type": "code",
   "execution_count": null,
   "metadata": {},
   "outputs": [],
   "source": [
    "order_columns = get_column_names(schema, 'orders')"
   ]
  },
  {
   "cell_type": "code",
   "execution_count": 23,
   "metadata": {},
   "outputs": [
    {
     "data": {
      "text/plain": [
       "['order_id', 'order_date', 'order_customer_id', 'order_status']"
      ]
     },
     "execution_count": 23,
     "metadata": {},
     "output_type": "execute_result"
    }
   ],
   "source": [
    "order_columns"
   ]
  },
  {
   "cell_type": "code",
   "execution_count": 24,
   "metadata": {},
   "outputs": [],
   "source": [
    "import pandas as pd"
   ]
  },
  {
   "cell_type": "code",
   "execution_count": 33,
   "metadata": {},
   "outputs": [],
   "source": [
    "orders = pd.read_csv('data/retail_db/orders/part-00000', names=order_columns)"
   ]
  },
  {
   "cell_type": "code",
   "execution_count": 34,
   "metadata": {},
   "outputs": [
    {
     "name": "stdout",
     "output_type": "stream",
     "text": [
      "       order_id             order_date  order_customer_id     order_status\n",
      "0             1  2013-07-25 00:00:00.0              11599           CLOSED\n",
      "1             2  2013-07-25 00:00:00.0                256  PENDING_PAYMENT\n",
      "2             3  2013-07-25 00:00:00.0              12111         COMPLETE\n",
      "3             4  2013-07-25 00:00:00.0               8827           CLOSED\n",
      "4             5  2013-07-25 00:00:00.0              11318         COMPLETE\n",
      "...         ...                    ...                ...              ...\n",
      "68878     68879  2014-07-09 00:00:00.0                778         COMPLETE\n",
      "68879     68880  2014-07-13 00:00:00.0               1117         COMPLETE\n",
      "68880     68881  2014-07-19 00:00:00.0               2518  PENDING_PAYMENT\n",
      "68881     68882  2014-07-22 00:00:00.0              10000          ON_HOLD\n",
      "68882     68883  2014-07-23 00:00:00.0               5533         COMPLETE\n",
      "\n",
      "[68883 rows x 4 columns]\n"
     ]
    }
   ],
   "source": [
    "print(orders)"
   ]
  },
  {
   "cell_type": "code",
   "execution_count": 4,
   "metadata": {},
   "outputs": [
    {
     "ename": "SyntaxError",
     "evalue": "'[' was never closed (2168813624.py, line 1)",
     "output_type": "error",
     "traceback": [
      "\u001b[0;36m  Cell \u001b[0;32mIn[4], line 1\u001b[0;36m\u001b[0m\n\u001b[0;31m    \"orders\": [\u001b[0m\n\u001b[0m              ^\u001b[0m\n\u001b[0;31mSyntaxError\u001b[0m\u001b[0;31m:\u001b[0m '[' was never closed\n"
     ]
    }
   ],
   "source": [
    " \"orders\": [\n",
    "        {\n",
    "            \"column_name\": \"order_id\",\n",
    "            \"data_type\": \"integer\",\n",
    "            \"column_position\": 1\n",
    "        },\n",
    "        {\n",
    "            \"column_name\": \"order_date\",\n",
    "            \"data_type\": \"string\",\n",
    "            \"column_position\": 2\n",
    "        },\n",
    "        {\n",
    "            \"column_name\": \"order_customer_id\",\n",
    "            \"data_type\": \"timestamp\",\n",
    "            \"column_position\": 3               \n",
    "        },\n",
    "        {\n",
    "            \"column_name\": \"order_status\",\n",
    "            \"data_type\": \"string\",\n",
    "            \"column_position\": 4\n",
    "        }"
   ]
  }
 ],
 "metadata": {
  "kernelspec": {
   "display_name": "Python 3",
   "language": "python",
   "name": "python3"
  },
  "language_info": {
   "codemirror_mode": {
    "name": "ipython",
    "version": 3
   },
   "file_extension": ".py",
   "mimetype": "text/x-python",
   "name": "python",
   "nbconvert_exporter": "python",
   "pygments_lexer": "ipython3",
   "version": "3.10.4"
  }
 },
 "nbformat": 4,
 "nbformat_minor": 2
}
